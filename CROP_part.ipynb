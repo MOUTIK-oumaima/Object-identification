{
 "cells": [
  {
   "cell_type": "code",
   "execution_count": 2,
   "metadata": {},
   "outputs": [],
   "source": [
    "import cv2\n",
    "import pandas as pd\n",
    "import os\n",
    "from pathlib import Path"
   ]
  },
  {
   "cell_type": "code",
   "execution_count": 5,
   "metadata": {},
   "outputs": [],
   "source": [
    "FRAME = \"FRAME_\"\n",
    "IN = \"yolo_frames/\"\n",
    "test = \"CROPED_frames\""
   ]
  },
  {
   "cell_type": "code",
   "execution_count": 6,
   "metadata": {},
   "outputs": [],
   "source": [
    "bounding_box = pd.read_csv('subset.csv')\n",
    "del bounding_box['Unnamed: 0']\n",
    "bounding_box.frame_id = bounding_box.frame_id.astype(int)"
   ]
  },
  {
   "cell_type": "code",
   "execution_count": 7,
   "metadata": {},
   "outputs": [],
   "source": [
    "unique_ids =bounding_box['frame_id'].unique()"
   ]
  },
  {
   "cell_type": "code",
   "execution_count": 8,
   "metadata": {},
   "outputs": [],
   "source": [
    "Path(OUT).mkdir(parents=True, exist_ok=True)\n",
    "Path(IN).mkdir(parents=True, exist_ok=True)"
   ]
  },
  {
   "cell_type": "code",
   "execution_count": 17,
   "metadata": {},
   "outputs": [],
   "source": [
    "subset = pd.DataFrame()\n",
    "directory = test\n",
    "for i in unique_ids:\n",
    "    Path(directory).mkdir(parents=True, exist_ok=True)\n",
    "    subset = bounding_box.loc[bounding_box['frame_id'] == i]\n",
    "    for index, row in subset.iterrows():\n",
    "        x = int(row[\"x\"])\n",
    "        y = int(row[\"y\"])\n",
    "        w = int(row[\"width\"])\n",
    "        h = int(row[\"height\"])\n",
    "        in_name = IN+\"frames\"+str(i)+\".jpg\"\n",
    "        \n",
    "        img = cv2.imread(in_name)\n",
    "        crop_img = img[y:y+h, x:x+w]\n",
    "        out_name = directory+\"/\"+str(i)+\".jpg\"\n",
    "        out_name = directory+\"/\"+str(index)+\".jpg\"\n",
    "        cv2.imwrite(out_name,crop_img)"
   ]
  },
  {
   "cell_type": "code",
   "execution_count": null,
   "metadata": {},
   "outputs": [],
   "source": []
  }
 ],
 "metadata": {
  "kernelspec": {
   "display_name": "Python 3",
   "language": "python",
   "name": "python3"
  },
  "language_info": {
   "codemirror_mode": {
    "name": "ipython",
    "version": 3
   },
   "file_extension": ".py",
   "mimetype": "text/x-python",
   "name": "python",
   "nbconvert_exporter": "python",
   "pygments_lexer": "ipython3",
   "version": "3.7.1"
  }
 },
 "nbformat": 4,
 "nbformat_minor": 2
}
